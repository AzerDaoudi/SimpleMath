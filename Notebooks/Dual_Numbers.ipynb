{
 "cells": [
  {
   "cell_type": "markdown",
   "metadata": {},
   "source": [
    "Hello, math geeks! In this notebook, we'll explore about the [dual number](https://en.wikipedia.org/wiki/Dual_number) and how to use it to get the derivative of a function at a given point. \n",
    "\n"
   ]
  },
  {
   "cell_type": "markdown",
   "metadata": {},
   "source": [
    "# Dual Number \n",
    "\n",
    "A dual number's simple expression is $a+b\\epsilon$, where a and b are real numbers and $\\epsilon$  satisfies $\\epsilon^2 = 0 $. \n",
    "\n",
    "We'll go through the dual number arithmetic rules:\n",
    "* $(a + b\\epsilon) + (c + d\\epsilon) = (a+c) + (b+d)\\epsilon$\n",
    "* $(a + b\\epsilon) - (c + d\\epsilon) = (a-c) + (b-d)\\epsilon$\n",
    "* $(a + b\\epsilon) * (c + d\\epsilon) = ac + (ad + bc)\\epsilon$\n",
    "\n",
    "* $\\frac{(a + b\\epsilon)}{(c + d\\epsilon)} = \\frac{a}{c} + \\frac{bc - ad}{c^2}\\epsilon$\n"
   ]
  },
  {
   "cell_type": "markdown",
   "metadata": {},
   "source": [
    "## Let's define the dual number using Python  "
   ]
  },
  {
   "cell_type": "code",
   "execution_count": 1,
   "metadata": {},
   "outputs": [],
   "source": [
    "import math\n",
    "import random\n",
    "class Dual:\n",
    "    \"\"\"Class represents a simple dual number with its arithmetic rules\"\"\"\n",
    "    \n",
    "    def __init__(self,a = 0 , b = 0):\n",
    "        if not(isinstance(a, (int, float)) and isinstance(b, (int, float))):\n",
    "            raise TypeError(\"Dual does not take non-integer or float args\")   \n",
    "        self.re = a\n",
    "        self.du = b \n",
    "        \n",
    "    def __add__(self,other):\n",
    "\n",
    "        other = self.cast(other)\n",
    "        return Dual(self.re + other.re, self.du + other.du)\n",
    "    \n",
    "    def __sub__(self,other):\n",
    "        \n",
    "        other = self.cast(other)\n",
    "        return Dual(self.re - other.re, self.du - other.du)\n",
    "    \n",
    "    def __mul__(self,other):\n",
    "        other = self.cast(other)\n",
    "        return Dual(self.re * other.re, self.re * other.du + self.du * other.re)\n",
    "    \n",
    "    def __truediv__(self,other):\n",
    "        other = self.cast(other)\n",
    "        if other.re != 0:\n",
    "            return Dual(self.re/other.re, (self.du*other.re - self.re*other.du)/(other.re **2))\n",
    "        else:\n",
    "            \n",
    "            if other.du != 0 and self.re == 0:\n",
    "                return Dual(self.du/other.du, random.normalvariate(0,1))\n",
    "            else:\n",
    "                raise Exception(\"Division not definied\")\n",
    "                \n",
    "    def __neg__(self):\n",
    "        return Dual(-self.re, -self.du)\n",
    "                    \n",
    "    def __radd__(self,other):\n",
    "        return self + other\n",
    "    \n",
    "    def __rmul__(self,other):\n",
    "        return self * other\n",
    "    \n",
    "    def __rsub__(self,other):\n",
    "        other = self.cast(other)\n",
    "        return other - self\n",
    "    \n",
    "    \n",
    "    def __rtruediv__(self,other):\n",
    "        other = self.cast(other)\n",
    "        return other/self\n",
    "    \n",
    "    \n",
    "    def __abs__(self):\n",
    "        return abs(self.re)\n",
    "    \n",
    "    def __eq__(self, other):\n",
    "        return self.re == other.re and self.du == other.du\n",
    "    \n",
    "    def __pow__(self,x):\n",
    "        return self.exp(x * self.log(self))\n",
    "\n",
    "    \n",
    "    def __repr__(self):\n",
    "        if self.du >= 0:\n",
    "            return f\"{self.re} + {self.du}ε\"\n",
    "        else:\n",
    "            return f\"{self.re} - {abs(self.du)}ε\"\n",
    "        \n",
    "    \n",
    "    def conjugate(self):\n",
    "        return Dual(self.re, -self.du)\n",
    "    \n",
    "    @staticmethod\n",
    "    def cast(number):\n",
    "        if isinstance(number, Dual):\n",
    "            return number\n",
    "        elif isinstance(number, (int, float)):\n",
    "            return Dual(number,0)\n",
    "        else:\n",
    "            raise TypeError(f\"can't convert {type(number)} to Dual\")\n",
    "            \n",
    "    @staticmethod\n",
    "    def exp(x):\n",
    "        \"\"\"Dual Method represents the dual exponential function\"\"\"\n",
    "        return Dual(math.exp(x.re), math.exp(x.re) * x.du)\n",
    "\n",
    "    @staticmethod\n",
    "    def log(x):\n",
    "        \"\"\"Dual Method represents the dual logarithmic function\"\"\"\n",
    "        return Dual(math.log(x.re),  x.du/x.re)\n",
    "\n",
    "\n",
    "    \n",
    "    \n",
    "    \n",
    "    \n",
    "\n",
    "\n",
    "\n",
    "    "
   ]
  },
  {
   "cell_type": "markdown",
   "metadata": {},
   "source": [
    "So, the Dual class represents a simple dual number with its arithmetic rules. The $exp(x)$ and $log(x)$ methods are respectively:\n",
    "* The exponential function: calculates the exponential of a dual number: \n",
    "$exp(a + b\\epsilon) = exp(a)*(1 + b\\epsilon)$\n",
    "* The logarithmic function: calculates the log of a dual number: \n",
    "$log(a + b\\epsilon) = log(a) + \\frac{b}{a}\\epsilon$\n",
    "\n",
    "### Division \"truediv\"\n",
    "As we mentioned before, the division of two dual numbers is: \n",
    "$\\frac{(a + b\\epsilon)}{(c + d\\epsilon)} = \\frac{a}{c} + \\frac{bc - ad}{c^2}\\epsilon$\n",
    "Which is defined when $c$ is non-zero.\n",
    "\n",
    "If, on the other hand, $c$ is zero while $d$ is not, then the equation:\n",
    "$a + b\\epsilon = (x + y\\epsilon)d\\epsilon = xd\\epsilon + 0$\n",
    "* has no solution if a is non-zero\n",
    "* is otherwise solved by any dual number of the form $\\frac{b}{d} + y\\epsilon$  ; where y is an arbitrary real number. In practice, the method generates a random real number $y$ from a normal distribution."
   ]
  },
  {
   "cell_type": "code",
   "execution_count": 2,
   "metadata": {},
   "outputs": [
    {
     "data": {
      "text/plain": [
       "2 + 7ε"
      ]
     },
     "execution_count": 2,
     "metadata": {},
     "output_type": "execute_result"
    }
   ],
   "source": [
    "x = Dual(1,2)\n",
    "y = Dual(1,5)\n",
    "x + y"
   ]
  },
  {
   "cell_type": "code",
   "execution_count": 3,
   "metadata": {},
   "outputs": [
    {
     "data": {
      "text/plain": [
       "2 - 2ε"
      ]
     },
     "execution_count": 3,
     "metadata": {},
     "output_type": "execute_result"
    }
   ],
   "source": [
    "3 - x"
   ]
  },
  {
   "cell_type": "code",
   "execution_count": 4,
   "metadata": {},
   "outputs": [
    {
     "data": {
      "text/plain": [
       "1.0 - 3.0ε"
      ]
     },
     "execution_count": 4,
     "metadata": {},
     "output_type": "execute_result"
    }
   ],
   "source": [
    "x / y"
   ]
  },
  {
   "cell_type": "code",
   "execution_count": 5,
   "metadata": {},
   "outputs": [
    {
     "name": "stdout",
     "output_type": "stream",
     "text": [
      "x is:  1 + 2ε\n",
      "The conjugate of x is:  1 - 2ε\n"
     ]
    }
   ],
   "source": [
    "print(\"x is: \",x)\n",
    "print(\"The conjugate of x is: \",x.conjugate())"
   ]
  },
  {
   "cell_type": "code",
   "execution_count": 6,
   "metadata": {},
   "outputs": [
    {
     "data": {
      "text/plain": [
       "1"
      ]
     },
     "execution_count": 6,
     "metadata": {},
     "output_type": "execute_result"
    }
   ],
   "source": [
    "abs(x)"
   ]
  },
  {
   "cell_type": "markdown",
   "metadata": {},
   "source": [
    "## Differentiation\n",
    "\n",
    "One application of dual numbers is automatic differentiation.\n",
    "\n",
    "By examining the Taylor series of real functions, we can extend any real function to dual numbers.\n",
    "\n",
    "$f(a + b\\epsilon) =\\sum_{n=0}^\\infty \\frac{f^{(n)}(a)b^n\\epsilon^n}{n!} = f(a) + bf^\\prime(a)\\epsilon$\n",
    "\n",
    "We can compute the derivative of a function at a given point by computing the function on a dual number and then taking the dual part of the result. \n",
    "\n",
    "For example, we take the function $f(x) = x + ln(x)$, its derivative is $f^\\prime(x) = 1 + \\frac{1}{x}$,\n",
    "\n",
    "So, $f^\\prime(0.5) = 1 +  \\frac{1}{0.5} = 3$\n"
   ]
  },
  {
   "cell_type": "code",
   "execution_count": 7,
   "metadata": {},
   "outputs": [],
   "source": [
    "f = lambda x : x + Dual.log(x)"
   ]
  },
  {
   "cell_type": "code",
   "execution_count": 8,
   "metadata": {},
   "outputs": [],
   "source": [
    "#The 0.5 point is the the real part of the dual number, we take 1 as a dual part.\n",
    "x = Dual(0.5, 1)"
   ]
  },
  {
   "cell_type": "code",
   "execution_count": 9,
   "metadata": {},
   "outputs": [],
   "source": [
    "y = f(x)"
   ]
  },
  {
   "cell_type": "code",
   "execution_count": 10,
   "metadata": {},
   "outputs": [
    {
     "data": {
      "text/plain": [
       "3.0"
      ]
     },
     "execution_count": 10,
     "metadata": {},
     "output_type": "execute_result"
    }
   ],
   "source": [
    "#The derivative of the function f at 0.5 is the dual part of the result.\n",
    "y.du"
   ]
  },
  {
   "cell_type": "code",
   "execution_count": 11,
   "metadata": {},
   "outputs": [],
   "source": [
    "#g(x) = x^3\n",
    "g = lambda x : x ** 3 "
   ]
  },
  {
   "cell_type": "code",
   "execution_count": 12,
   "metadata": {},
   "outputs": [
    {
     "data": {
      "text/plain": [
       "0.7500000000000002"
      ]
     },
     "execution_count": 12,
     "metadata": {},
     "output_type": "execute_result"
    }
   ],
   "source": [
    "#g'(0.5) = 3*(0.5^2) = 0.75\n",
    "g(x).du"
   ]
  },
  {
   "cell_type": "code",
   "execution_count": null,
   "metadata": {},
   "outputs": [],
   "source": []
  }
 ],
 "metadata": {
  "kernelspec": {
   "display_name": "Python 3",
   "language": "python",
   "name": "python3"
  },
  "language_info": {
   "codemirror_mode": {
    "name": "ipython",
    "version": 3
   },
   "file_extension": ".py",
   "mimetype": "text/x-python",
   "name": "python",
   "nbconvert_exporter": "python",
   "pygments_lexer": "ipython3",
   "version": "3.8.5"
  }
 },
 "nbformat": 4,
 "nbformat_minor": 4
}
